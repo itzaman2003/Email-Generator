{
 "cells": [
  {
   "cell_type": "code",
   "execution_count": 5,
   "id": "0f76f97c",
   "metadata": {},
   "outputs": [
    {
     "name": "stdout",
     "output_type": "stream",
     "text": [
      "It's not possible for a person to land on the sun.  The sun is a massive ball of hot, glowing gas and does not have a solid surface. Additionally, the temperatures on the sun are so high (reaching over 5,500°C or 10,000°F) that any living organism or spacecraft would immediately vaporize.\n"
     ]
    }
   ],
   "source": [
    "\n",
    "from langchain_groq import ChatGroq\n",
    "\n",
    "llm = ChatGroq(\n",
    "    temperature=0, \n",
    "    groq_api_key='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', \n",
    "    model_name=\"llama-3.1-70b-versatile\"\n",
    ")\n",
    "\n",
    "response = llm.invoke(\"The first person to land on sun was ...\")\n",
    "print(response.content)"
   ]
  }
 ],
 "metadata": {
  "kernelspec": {
   "display_name": "Python 3 (ipykernel)",
   "language": "python",
   "name": "python3"
  },
  "language_info": {
   "codemirror_mode": {
    "name": "ipython",
    "version": 3
   },
   "file_extension": ".py",
   "mimetype": "text/x-python",
   "name": "python",
   "nbconvert_exporter": "python",
   "pygments_lexer": "ipython3",
   "version": "3.11.4"
  }
 },
 "nbformat": 4,
 "nbformat_minor": 5
}
